{
 "cells": [
  {
   "cell_type": "code",
   "execution_count": 1,
   "id": "617b748f",
   "metadata": {},
   "outputs": [],
   "source": [
    "from pathlib import Path\n",
    "from IPython.display import display, Markdown\n",
    "import pandas as pd"
   ]
  },
  {
   "cell_type": "markdown",
   "id": "cfc1c90a",
   "metadata": {},
   "source": [
    "# Path"
   ]
  },
  {
   "cell_type": "code",
   "execution_count": 2,
   "id": "ead9aed8",
   "metadata": {},
   "outputs": [],
   "source": [
    "path = Path('earth-observation-jobs - Companies.csv')"
   ]
  },
  {
   "cell_type": "markdown",
   "id": "0433dfe9",
   "metadata": {},
   "source": [
    "# Resources"
   ]
  },
  {
   "cell_type": "code",
   "execution_count": 3,
   "id": "bfcfab11",
   "metadata": {},
   "outputs": [],
   "source": [
    "i_cb = 'https://i.imgur.com/H3e6fly.png'\n",
    "i_l = 'https://i.imgur.com/SSBwtJu.png'\n",
    "i_t = 'https://i.imgur.com/d4HTDdM.png'\n",
    "i_pdf = 'https://i.imgur.com/BjJ1vkt.png'"
   ]
  },
  {
   "cell_type": "code",
   "execution_count": 4,
   "id": "6c8b07df",
   "metadata": {},
   "outputs": [],
   "source": [
    "height = 25"
   ]
  },
  {
   "cell_type": "markdown",
   "id": "7c4b1fd6",
   "metadata": {},
   "source": [
    "# Load"
   ]
  },
  {
   "cell_type": "code",
   "execution_count": 5,
   "id": "07c7f6fd",
   "metadata": {},
   "outputs": [],
   "source": [
    "columns = ['Name', 'Description', 'Website', 'Jobs site', 'Jobs 2', 'Locations', \n",
    "           'Crunchbase', 'Remote', 'Linkedin', 'Twitter', 'SPAC']"
   ]
  },
  {
   "cell_type": "code",
   "execution_count": 6,
   "id": "41e9816c",
   "metadata": {},
   "outputs": [],
   "source": [
    "na_values = ['?', 'None?', 'x']"
   ]
  },
  {
   "cell_type": "code",
   "execution_count": 7,
   "id": "7810cfcd",
   "metadata": {},
   "outputs": [],
   "source": [
    "df = pd.read_csv(path, usecols=columns, na_values=na_values)"
   ]
  },
  {
   "cell_type": "code",
   "execution_count": 8,
   "id": "472fe603",
   "metadata": {},
   "outputs": [],
   "source": [
    "df = df.iloc[df['Name'].str.lower().argsort()]"
   ]
  },
  {
   "cell_type": "markdown",
   "id": "e412dca1",
   "metadata": {},
   "source": [
    "# Process"
   ]
  },
  {
   "cell_type": "code",
   "execution_count": 9,
   "id": "f59cc03a",
   "metadata": {},
   "outputs": [],
   "source": [
    "def process(row):\n",
    "    name = f\"\"\"<a href=\"{row['Website']}\">{row['Name']}</a>\"\"\"\n",
    "    description = row['Description']\n",
    "    \n",
    "    jobs = f\"\"\"<a href=\"{row['Jobs site']}\">[1]</a>\"\"\" if row['Jobs site'] else ''\n",
    "    jobs += f\"\"\"<a href=\"{row['Jobs 2']}\">[2]</a>\"\"\" if row['Jobs 2'] else '' \n",
    "    # ｜\n",
    "    locations = f\"\"\"{row['Locations'].replace('|','<br />')}\"\"\"\n",
    "    \n",
    "    remote = row['Remote'] if row['Remote'] not in ['No', 'No jobs'] else ''\n",
    "    \n",
    "    \n",
    "    social = f\"\"\"<a href=\"{row['Twitter']}\"><img src=\"{i_t}\" height={height}></a>\"\"\" if row['Twitter'] else ''\n",
    "    social += f\"\"\"<a href=\"{row['Linkedin']}\"><img src=\"{i_l}\" height={height}></a>\"\"\" if row['Linkedin'] else ''\n",
    "    \n",
    "    business = f\"\"\"<a href=\"{row['Crunchbase']}\"><img src=\"{i_cb}\" height={height}></a>\"\"\" if row['Crunchbase'] else ''\n",
    "\n",
    "    business += f\"\"\" <a href=\"{row['SPAC']}\"><img src=\"{i_pdf}\" height={height}></a>\"\"\" if row['SPAC'] else ''\n",
    "    \n",
    "    return pd.Series({\n",
    "        'Name': name,\n",
    "        'Description': description,\n",
    "        'Jobs': jobs,\n",
    "        'Locations': locations,\n",
    "        'Remote': remote,\n",
    "        'Social': social,\n",
    "        'Business': business\n",
    "    })"
   ]
  },
  {
   "cell_type": "code",
   "execution_count": 10,
   "id": "d824524e",
   "metadata": {},
   "outputs": [],
   "source": [
    "result = df.fillna('').apply(process, axis=1)"
   ]
  },
  {
   "cell_type": "markdown",
   "id": "a29c4af6",
   "metadata": {},
   "source": [
    "# Output"
   ]
  },
  {
   "cell_type": "code",
   "execution_count": 11,
   "id": "f09c36ee",
   "metadata": {},
   "outputs": [],
   "source": [
    "intro = \"\"\"\n",
    "# Earth Observation Companies & Jobs\n",
    "\n",
    "![](https://i.imgur.com/KDcXsBZ.png)\n",
    "\n",
    "[<div align=\"center\"><em>source</em></div>](https://terrawatch.substack.com/p/demystifying-earth-observation-the?utm_source=url)\n",
    "\n",
    "## Portals & Jobs\n",
    "\n",
    "Geospatial\n",
    "- [Geospatial jobs newsletter](https://geospatial.substack.com/p/welcome-to-geospatial-jobs-newsletter?utm_source=url): ~biweekly newsletter with geospatial jobs by [Ali Ahmadalipour](https://twitter.com/hydroclimali). Often contains EO jobs in non-EO companies that are not covered by this list.\n",
    "- [Pangeo Jobs](https://discourse.pangeo.io/c/news/jobs/14): job board from the [Pangeo](https://pangeo.io/) community.\n",
    "\n",
    "Space\n",
    "- [Payload Space Jobs](https://payload-space.pallet.com/jobs): space jobs portal from [Payload](https://payloadspace.com/), who also write an excellent space [newsletter](https://payloadspace.com/newsletter/archive/sleuthing-02-23-22-newsletter/) about the business and policy of space. \n",
    "- [Careers in Space](https://www.careersin.space/): space jobs portal.\n",
    "- [Space Talent jobs](https://jobs.spacetalent.org/jobs): jobs in space and space-enabled companies.\n",
    "- [SpaceCarreers Twitter bot](https://twitter.com/SpaceCareers)\n",
    "\n",
    "Climate\n",
    "- [Climatebase](https://climatebase.org/jobs?l=&q=&p=0)\n",
    "- [Nature Tech jobs](https://naturetech.io/)\n",
    "\n",
    "## Overviews of EO & geospatial companies\n",
    "\n",
    "- [chrieke/awesome-geospatial-companies](https://github.com/chrieke/awesome-geospatial-companies): the go-to list of 500+ geospatial companies, maintained by [Christoph Rieke](https://twitter.com/chrieke).\n",
    "- [Demystifying Earth Observation: The Multi-Billion Market* in Space Tech](https://terrawatch.substack.com/p/demystifying-earth-observation-the?utm_source=url): an excellent article for making sense of the EO market, written by [Aravind](https://twitter.com/aravind_raves). The graphic above is taken from the article.\n",
    "- [ML for EO Market Map](https://www.radiant.earth/infographic/ml-for-eo-market-map/): clickable overview of companies related to ML and EO, by [Radiant Earth Foundation](https://www.radiant.earth/).\n",
    "- [NewSpace Index](https://www.newspace.im/): in particular the constellation tab is useful for making sense of the EO market.\n",
    "- [Space Case's Twitter thread on EO SPACs](https://twitter.com/spacecasemartin/status/1494401582716362762)\n",
    "\n",
    "## Before you apply\n",
    "\n",
    "- Listen to the [MapScaping podcast](https://mapscaping.com/), which has many relevant episodes. \n",
    "    - Learn more about [getting hired](https://mapscaping.com/podcast/hiring-and-being-hired-for-geospatial-jobs/) and [getting where you want to go in your geospatial carreer](https://mapscaping.com/podcast/getting-where-you-want-to-go-in-your-geospatial-career/).\n",
    "    - [Be visible](https://mapscaping.com/podcast/being-visible-in-the-geospatial-community/) and build your [personal brand](https://mapscaping.com/podcast/building-a-personal-brand-in-the-geospatial-industry/).\n",
    "    - Perhaps you want to be [self-employed](https://mapscaping.com/podcast/being-self-employed-in-the-earth-observation-sector/), start a [geospatial side-hustle](https://mapscaping.com/podcast/geospatial-side-hustles/), a [consultancy](https://mapscaping.com/podcast/starting-your-own-geospatial-consultancy/), [business](https://mapscaping.com/podcast/business-ideas-for-geospatial-people/) or a [startup](https://mapscaping.com/podcast/getting-your-geospatial-start-up-started/).\n",
    "- [Book: ML Interviews](https://huyenchip.com/ml-interviews-book/): a must-read for data-related positions. However, the first half is fairly general and might benefit anyone looking for a job.\n",
    "- Read [Eric Jensen's how-to Twitter thread](https://twitter.com/RangeSpatialist/status/1496877532804640777) and listen to the [Mapscaping episode](https://mapscaping.com/podcast/getting-your-dream-job-in-earth-observation/) on getting a geospatial job.\n",
    "\n",
    "## Notes\n",
    "\n",
    "- This list is focused on commercial companies.\n",
    "- Remote positions: Based on whether I saw remote positions advertised. Absence of \"Yes\" does not necessarily mean remote work is not possible. \n",
    "\n",
    "### Contributing\n",
    "Contributions are very welcomed. Feel free to\n",
    "- Write a new [issue](https://github.com/DahnJ/EO-jobs/issues)\n",
    "- Start a PR\n",
    "- Message me on [Twitter](https://twitter.com/DahnJahn)\n",
    "\n",
    "\n",
    "# List\n",
    "\"\"\""
   ]
  },
  {
   "cell_type": "code",
   "execution_count": 12,
   "id": "63c6c698",
   "metadata": {},
   "outputs": [],
   "source": [
    "md = intro + result.to_markdown(index=False)"
   ]
  },
  {
   "cell_type": "code",
   "execution_count": 13,
   "id": "5d0e2a07",
   "metadata": {},
   "outputs": [],
   "source": [
    "with open('README.md', 'w') as f:\n",
    "    f.write(md)"
   ]
  }
 ],
 "metadata": {
  "kernelspec": {
   "display_name": "Python 3 (ipykernel)",
   "language": "python",
   "name": "python3"
  },
  "language_info": {
   "codemirror_mode": {
    "name": "ipython",
    "version": 3
   },
   "file_extension": ".py",
   "mimetype": "text/x-python",
   "name": "python",
   "nbconvert_exporter": "python",
   "pygments_lexer": "ipython3",
   "version": "3.9.10"
  }
 },
 "nbformat": 4,
 "nbformat_minor": 5
}
